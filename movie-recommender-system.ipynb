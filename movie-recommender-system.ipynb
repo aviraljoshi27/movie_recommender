{
 "cells": [
  {
   "cell_type": "code",
   "execution_count": 38,
   "id": "e21299e9-d45e-4934-bf2f-c1363eaa7cec",
   "metadata": {},
   "outputs": [],
   "source": [
    "# importing necessary libraries\n",
    "import pandas as pd\n",
    "import  numpy as np\n",
    "import ast\n",
    "import warnings\n",
    "warnings.filterwarnings('ignore')\n",
    "from sklearn.feature_extraction.text import CountVectorizer\n",
    "import nltk\n",
    "from nltk.stem.porter import PorterStemmer"
   ]
  },
  {
   "cell_type": "code",
   "execution_count": 2,
   "id": "84997a80-2799-4616-928a-22625965a6bc",
   "metadata": {},
   "outputs": [],
   "source": [
    "# reading the data sets\n",
    "movies = pd.read_csv('tmdb_5000_movies.csv')\n",
    "credit = pd.read_csv('tmdb_5000_credits.csv')"
   ]
  },
  {
   "cell_type": "code",
   "execution_count": 3,
   "id": "23d41aee-b3fe-4d0b-a7d1-c8a56684ed64",
   "metadata": {},
   "outputs": [],
   "source": [
    "# merging data frames\n",
    "movies = movies.merge(credit, on = 'title')"
   ]
  },
  {
   "cell_type": "code",
   "execution_count": 4,
   "id": "5da37d6c-1f45-413b-b08a-a5de92b2e22a",
   "metadata": {},
   "outputs": [],
   "source": [
    "#dropping un-necessary columns\n",
    "\n",
    "un_necessary_columns = ['budget', 'id', 'homepage', 'original_language', 'original_title', 'popularity', 'production_companies', 'production_countries',\n",
    "                       'release_date', 'revenue', 'runtime', 'spoken_languages', 'status', 'tagline', 'vote_average',\n",
    "                       'vote_count']\n",
    "movies.drop(columns = un_necessary_columns, inplace= True)"
   ]
  },
  {
   "cell_type": "code",
   "execution_count": 5,
   "id": "4bf8ff14-e2ca-43bb-9083-86a12c646026",
   "metadata": {},
   "outputs": [],
   "source": [
    "#checking for null values\n",
    "#movies.isnull().sum()"
   ]
  },
  {
   "cell_type": "code",
   "execution_count": 6,
   "id": "34c8cec5-9f97-4983-809e-ff4a7e6e8749",
   "metadata": {},
   "outputs": [],
   "source": [
    "#dropping null values\n",
    "movies.dropna(inplace= True)"
   ]
  },
  {
   "cell_type": "code",
   "execution_count": 7,
   "id": "be4ef881-febd-4f25-a7f6-8ddd8cdacfca",
   "metadata": {},
   "outputs": [],
   "source": [
    "#checking duplicate value\n",
    "#movies.duplicated().sum()"
   ]
  },
  {
   "cell_type": "code",
   "execution_count": 8,
   "id": "a140b49a-b9f2-4637-b4e8-1e5b1e1168ac",
   "metadata": {},
   "outputs": [],
   "source": [
    "# extracting tags from genre\n",
    "def convert(obj):\n",
    "    L = []\n",
    "    for i in ast.literal_eval(obj):\n",
    "        L.append(i['name'])\n",
    "    return L\n",
    "\n",
    "movies['genres'] = movies['genres'].apply(convert)"
   ]
  },
  {
   "cell_type": "code",
   "execution_count": 9,
   "id": "9f2e6112-b04e-4f6c-8134-27994c815517",
   "metadata": {},
   "outputs": [],
   "source": [
    "#converting keywords to tags\n",
    "movies['keywords'] = movies['keywords'].apply(convert)"
   ]
  },
  {
   "cell_type": "code",
   "execution_count": 10,
   "id": "86dd37ca-24c8-411a-9fe7-e05978625eca",
   "metadata": {},
   "outputs": [],
   "source": [
    "# converting cast to tags\n",
    "def convert_cast(obj):\n",
    "    L = []\n",
    "    counter = 0\n",
    "    for i in ast.literal_eval(obj):\n",
    "        if counter < 3:\n",
    "            L.append(i['name'])\n",
    "            counter += 1\n",
    "        else:\n",
    "            break\n",
    "    return L\n",
    "movies['cast'] = movies['cast'].apply(convert_cast)"
   ]
  },
  {
   "cell_type": "code",
   "execution_count": 11,
   "id": "7f68ec90-8f98-48af-8916-b65ce53c0064",
   "metadata": {},
   "outputs": [],
   "source": [
    "# to extract director from crew\n",
    "def extract_director(obj):\n",
    "    L = []\n",
    "    for i in ast.literal_eval(obj):\n",
    "        if i['job'] == 'Director':\n",
    "            L.append(i['name'])\n",
    "            break\n",
    "    return L\n",
    "movies['crew'] = movies['crew'].apply(extract_director)"
   ]
  },
  {
   "cell_type": "code",
   "execution_count": 12,
   "id": "e432a54f-ab0a-40b1-a2b5-c5f201b389e9",
   "metadata": {},
   "outputs": [],
   "source": [
    "# converting overview to list\n",
    "movies['overview'] = movies['overview'].str.split(' ')"
   ]
  },
  {
   "cell_type": "code",
   "execution_count": 13,
   "id": "e9456c0c-d14b-4e55-9373-b86c8c3a3a68",
   "metadata": {},
   "outputs": [],
   "source": [
    "# removing space rom tags so that each name have a unique tag\n",
    "movies['genres'] = movies['genres'].apply(lambda x: [i.replace(' ','') for i in x])\n",
    "movies['keywords'] = movies['keywords'].apply(lambda x: [i.replace(' ','') for i in x])\n",
    "movies['cast'] = movies['cast'].apply(lambda x: [i.replace(' ','') for i in x])\n",
    "movies['crew'] = movies['crew'].apply(lambda x: [i.replace(' ','') for i in x])"
   ]
  },
  {
   "cell_type": "code",
   "execution_count": 14,
   "id": "84645f94-f60e-4157-a2a5-9e5916441221",
   "metadata": {},
   "outputs": [],
   "source": [
    "# combing all tags under the new columns \"tags\"\n",
    "movies['tags'] = movies['genres'] + movies['keywords'] + movies['overview'] + movies['cast'] + movies['crew']"
   ]
  },
  {
   "cell_type": "code",
   "execution_count": 15,
   "id": "78d77780-6653-46ac-b150-db27b37b8921",
   "metadata": {},
   "outputs": [],
   "source": [
    "# re arranging the columns and discarding rest\n",
    "new_df = movies[['movie_id', 'title', 'tags']]"
   ]
  },
  {
   "cell_type": "code",
   "execution_count": 16,
   "id": "900bf0be-abcf-4f97-9b7a-e74062f4c988",
   "metadata": {},
   "outputs": [],
   "source": [
    "#converting list to string using a space\n",
    "new_df['tags'] = new_df['tags'].apply(lambda x: \" \".join(x))"
   ]
  },
  {
   "cell_type": "code",
   "execution_count": 17,
   "id": "19b01fdf-ce47-4026-a789-ca65ec129d9e",
   "metadata": {},
   "outputs": [],
   "source": [
    "#converting str to lower\n",
    "new_df['tags'] = new_df['tags'].apply(lambda x : x.lower())"
   ]
  },
  {
   "cell_type": "code",
   "execution_count": 42,
   "id": "7a961950-5f22-4f76-bb2c-82b7c84499f6",
   "metadata": {},
   "outputs": [],
   "source": [
    "# now we want to stem i.e. loved, loving, love all these will be converted to love, love, love (i.e. root words)\n",
    "ps = PorterStemmer()\n",
    "def stem(text):\n",
    "    y = []\n",
    "    for i in text.split():\n",
    "        y.append(ps.stem(i))\n",
    "    return ' '.join(y)\n",
    "\n",
    "new_df['tags'] = new_df['tags'].apply(stem)"
   ]
  },
  {
   "cell_type": "code",
   "execution_count": 43,
   "id": "091568ce-33b3-4599-8858-d33e86cb1d6c",
   "metadata": {},
   "outputs": [],
   "source": [
    "cv = CountVectorizer(max_features= 5000, stop_words='english') #  we are defining max words aand removing stop words of english"
   ]
  },
  {
   "cell_type": "code",
   "execution_count": 44,
   "id": "ccb6bee0-8380-40a2-ae80-48560557e019",
   "metadata": {},
   "outputs": [],
   "source": [
    "vectors = cv.fit_transform(new_df['tags']).toarray()   # we are giving tags from df and converting scipi matrix to an array"
   ]
  },
  {
   "cell_type": "code",
   "execution_count": 45,
   "id": "37fbd324-5ca2-45b8-9980-39cdccc005ae",
   "metadata": {},
   "outputs": [],
   "source": [
    "# to check the words in cv\n",
    "#cv.get_feature_names_out()"
   ]
  },
  {
   "cell_type": "code",
   "execution_count": 47,
   "id": "e362408f-9ec0-43d5-89ad-4bb8b7c6fe70",
   "metadata": {},
   "outputs": [],
   "source": [
    "# now we have to calculate cosine distance between vectors.\n",
    "from sklearn.metrics.pairwise import cosine_similarity"
   ]
  },
  {
   "cell_type": "code",
   "execution_count": 50,
   "id": "2b3eb44b-d475-4494-a830-76083a44c245",
   "metadata": {},
   "outputs": [],
   "source": [
    "similarity = cosine_similarity(vectors)"
   ]
  },
  {
   "cell_type": "code",
   "execution_count": 57,
   "id": "e30acdbd-ca4a-421f-bc0e-8a68c8067ee1",
   "metadata": {},
   "outputs": [
    {
     "data": {
      "text/plain": [
       "[(1216, 0.29061909685954823),\n",
       " (3730, 0.26401000024165),\n",
       " (507, 0.25903973506580724),\n",
       " (539, 0.2537477434955704),\n",
       " (2409, 0.2507061052819501)]"
      ]
     },
     "execution_count": 57,
     "metadata": {},
     "output_type": "execute_result"
    }
   ],
   "source": [
    "sorted(enumerate(similarity[0]), reverse= True, key= lambda x: x[1])[1:6]"
   ]
  },
  {
   "cell_type": "code",
   "execution_count": 60,
   "id": "d0128675-e5bc-4378-b7ba-4e9e0462d4f6",
   "metadata": {},
   "outputs": [],
   "source": [
    "def recommend(movie):\n",
    "    movie_index = new_df[new_df['title'] == movie].index[0]\n",
    "    distances = similarity[movie_index]\n",
    "    movie_list = sorted(enumerate(distances), reverse= True, key= lambda x: x[1])[1:6]\n",
    "    for i in movie_list:\n",
    "        print (new_df.iloc[i[0]]['title'])"
   ]
  },
  {
   "cell_type": "code",
   "execution_count": 62,
   "id": "8512919b-7e14-40a5-8241-081894c052ae",
   "metadata": {},
   "outputs": [
    {
     "name": "stdout",
     "output_type": "stream",
     "text": [
      "The Dark Knight\n",
      "Batman\n",
      "Batman\n",
      "The Dark Knight Rises\n",
      "10th & Wolf\n"
     ]
    }
   ],
   "source": [
    "recommend('Batman Begins')"
   ]
  },
  {
   "cell_type": "code",
   "execution_count": null,
   "id": "10b7d2a0-063c-4905-8e59-5c056e3ed420",
   "metadata": {},
   "outputs": [],
   "source": []
  }
 ],
 "metadata": {
  "kernelspec": {
   "display_name": "Python 3 (ipykernel)",
   "language": "python",
   "name": "python3"
  },
  "language_info": {
   "codemirror_mode": {
    "name": "ipython",
    "version": 3
   },
   "file_extension": ".py",
   "mimetype": "text/x-python",
   "name": "python",
   "nbconvert_exporter": "python",
   "pygments_lexer": "ipython3",
   "version": "3.11.8"
  }
 },
 "nbformat": 4,
 "nbformat_minor": 5
}
